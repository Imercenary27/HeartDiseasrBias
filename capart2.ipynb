{
 "cells": [
  {
   "cell_type": "code",
   "execution_count": 1,
   "id": "f7d8fcbb",
   "metadata": {},
   "outputs": [],
   "source": [
    "import pandas as pd, numpy as np\n",
    "\n",
    "# UCI Cleveland subset (14 features + target) -------------------------------\n",
    "url = \"https://raw.githubusercontent.com/sharmaroshan/Heart-UCI-Dataset/master/heart.csv\"\n",
    "df = pd.read_csv(url)              # 303 rows\n"
   ]
  },
  {
   "cell_type": "code",
   "execution_count": 2,
   "id": "962c1f34",
   "metadata": {},
   "outputs": [
    {
     "name": "stdout",
     "output_type": "stream",
     "text": [
      "<class 'pandas.core.frame.DataFrame'>\n",
      "RangeIndex: 303 entries, 0 to 302\n",
      "Data columns (total 14 columns):\n",
      " #   Column    Non-Null Count  Dtype  \n",
      "---  ------    --------------  -----  \n",
      " 0   age       303 non-null    int64  \n",
      " 1   sex       303 non-null    int64  \n",
      " 2   cp        303 non-null    int64  \n",
      " 3   trestbps  303 non-null    int64  \n",
      " 4   chol      303 non-null    int64  \n",
      " 5   fbs       303 non-null    int64  \n",
      " 6   restecg   303 non-null    int64  \n",
      " 7   thalach   303 non-null    int64  \n",
      " 8   exang     303 non-null    int64  \n",
      " 9   oldpeak   303 non-null    float64\n",
      " 10  slope     303 non-null    int64  \n",
      " 11  ca        303 non-null    int64  \n",
      " 12  thal      303 non-null    int64  \n",
      " 13  target    303 non-null    int64  \n",
      "dtypes: float64(1), int64(13)\n",
      "memory usage: 33.3 KB\n",
      "None\n",
      "   age  sex  cp  trestbps  chol  fbs  restecg  thalach  exang  oldpeak  slope  \\\n",
      "0   63    1   3       145   233    1        0      150      0      2.3      0   \n",
      "1   37    1   2       130   250    0        1      187      0      3.5      0   \n",
      "2   41    0   1       130   204    0        0      172      0      1.4      2   \n",
      "3   56    1   1       120   236    0        1      178      0      0.8      2   \n",
      "4   57    0   0       120   354    0        1      163      1      0.6      2   \n",
      "\n",
      "   ca  thal  target  \n",
      "0   0     1       1  \n",
      "1   0     2       1  \n",
      "2   0     2       1  \n",
      "3   0     2       1  \n",
      "4   0     2       1  \n"
     ]
    }
   ],
   "source": [
    "print(df.info())\n",
    "print(df.head())\n"
   ]
  },
  {
   "cell_type": "markdown",
   "id": "10fd8e04",
   "metadata": {},
   "source": [
    "3. Bias Identification "
   ]
  },
  {
   "cell_type": "code",
   "execution_count": 7,
   "id": "7238379d",
   "metadata": {},
   "outputs": [
    {
     "name": "stdout",
     "output_type": "stream",
     "text": [
      "Per-sex breakdown\n",
      "     accuracy  selection_rate\n",
      "sex                          \n",
      "0    0.966667             0.8\n",
      "1    0.804348             0.5 \n",
      "\n",
      "Overall performance\n",
      "accuracy          0.868421\n",
      "selection_rate    0.618421\n",
      "dtype: float64 \n",
      "\n",
      "Demographic-parity difference : 0.300\n",
      "Demographic-parity ratio      : 0.625\n"
     ]
    }
   ],
   "source": [
    "# 1. Imports ──────────────────────────────────────────────────────────────\n",
    "import pandas as pd\n",
    "from sklearn.pipeline import Pipeline\n",
    "from sklearn.preprocessing import StandardScaler\n",
    "from sklearn.linear_model import LogisticRegression\n",
    "from sklearn.model_selection import train_test_split\n",
    "from sklearn.metrics import accuracy_score\n",
    "from fairlearn.metrics import (\n",
    "    MetricFrame, selection_rate,\n",
    "    demographic_parity_difference, demographic_parity_ratio\n",
    ")\n",
    "\n",
    "# 2. Data load (your CSV already in `df`) ──────────────────────────────────\n",
    "# df = pd.read_csv(\"heart.csv\")     # if reading from file\n",
    "X = df.drop('target', axis=1)       # label column is 'target'\n",
    "y = df['target']\n",
    "A = df['sex']                       # protected attribute (0 = female, 1 = male)\n",
    "\n",
    "# 3. Train/test split & baseline model ────────────────────────────────────\n",
    "X_tr, X_te, y_tr, y_te, A_tr, A_te = train_test_split(\n",
    "    X, y, A, stratify=y, test_size=0.25, random_state=0\n",
    ")\n",
    "\n",
    "pipe = Pipeline([\n",
    "    ('scale', StandardScaler()),\n",
    "    ('logreg', LogisticRegression(max_iter=200, solver='lbfgs'))\n",
    "]).fit(X_tr, y_tr)\n",
    "\n",
    "pred = pipe.predict(X_te)\n",
    "\n",
    "# 4. Grouped performance with MetricFrame ─────────────────────────────────\n",
    "base_metrics = {                   # ONLY metrics that need y_true & y_pred\n",
    "    'accuracy'      : accuracy_score,\n",
    "    'selection_rate': selection_rate\n",
    "}\n",
    "\n",
    "mf = MetricFrame(\n",
    "    metrics            = base_metrics,\n",
    "    y_true             = y_te,\n",
    "    y_pred             = pred,\n",
    "    sensitive_features = A_te\n",
    ")\n",
    "\n",
    "print(\"Per-sex breakdown\")\n",
    "print(mf.by_group, \"\\n\")\n",
    "print(\"Overall performance\")\n",
    "print(mf.overall, \"\\n\")\n",
    "\n",
    "# 5. Global fairness metrics (need sensitive_features) ────────────────────\n",
    "dp_diff  = demographic_parity_difference(y_te, pred, sensitive_features=A_te)\n",
    "dp_ratio = demographic_parity_ratio(   y_te, pred, sensitive_features=A_te)\n",
    "\n",
    "print(f\"Demographic-parity difference : {dp_diff:.3f}\")\n",
    "print(f\"Demographic-parity ratio      : {dp_ratio:.3f}\")\n"
   ]
  },
  {
   "cell_type": "code",
   "execution_count": null,
   "id": "17767854",
   "metadata": {},
   "outputs": [],
   "source": [
    "from imblearn.over_sampling import SMOTE\n",
    "sm = SMOTE(sampling_strategy={0: A_train.value_counts()[1]}, random_state=0)  # balance sex\n",
    "X_bal, y_bal = sm.fit_resample(X_train, y_train)\n",
    "A_bal = sm.fit_resample(A_train.values.reshape(-1,1), y_train)[0].ravel()"
   ]
  },
  {
   "cell_type": "code",
   "execution_count": 8,
   "id": "5843e214",
   "metadata": {},
   "outputs": [
    {
     "name": "stdout",
     "output_type": "stream",
     "text": [
      "Per-sex breakdown\n",
      "     accuracy  selection_rate\n",
      "sex                          \n",
      "0    0.966667             0.8\n",
      "1    0.804348             0.5 \n",
      "\n",
      "Overall performance\n",
      "accuracy          0.868421\n",
      "selection_rate    0.618421\n",
      "dtype: float64 \n",
      "\n",
      "Demographic-parity difference : 0.300\n",
      "Demographic-parity ratio      : 0.625\n"
     ]
    }
   ],
   "source": [
    "# 1. Imports ──────────────────────────────────────────────────────────────\n",
    "import pandas as pd\n",
    "from sklearn.pipeline import Pipeline\n",
    "from sklearn.preprocessing import StandardScaler\n",
    "from sklearn.linear_model import LogisticRegression\n",
    "from sklearn.model_selection import train_test_split\n",
    "from sklearn.metrics import accuracy_score\n",
    "from fairlearn.metrics import (\n",
    "    MetricFrame, selection_rate,\n",
    "    demographic_parity_difference, demographic_parity_ratio\n",
    ")\n",
    "\n",
    "# 2. Data load (your CSV already in `df`) ──────────────────────────────────\n",
    "# df = pd.read_csv(\"heart.csv\")     # if reading from file\n",
    "X = df.drop('target', axis=1)       # label column is 'target'\n",
    "y = df['target']\n",
    "A = df['sex']                       # protected attribute (0 = female, 1 = male)\n",
    "\n",
    "# 3. Train/test split & baseline model ────────────────────────────────────\n",
    "X_tr, X_te, y_tr, y_te, A_tr, A_te = train_test_split(\n",
    "    X, y, A, stratify=y, test_size=0.25, random_state=0\n",
    ")\n",
    "\n",
    "pipe = Pipeline([\n",
    "    ('scale', StandardScaler()),\n",
    "    ('logreg', LogisticRegression(max_iter=200, solver='lbfgs'))\n",
    "]).fit(X_tr, y_tr)\n",
    "\n",
    "pred = pipe.predict(X_te)\n",
    "\n",
    "# 4. Grouped performance with MetricFrame ─────────────────────────────────\n",
    "base_metrics = {                   # ONLY metrics that need y_true & y_pred\n",
    "    'accuracy'      : accuracy_score,\n",
    "    'selection_rate': selection_rate\n",
    "}\n",
    "\n",
    "mf = MetricFrame(\n",
    "    metrics            = base_metrics,\n",
    "    y_true             = y_te,\n",
    "    y_pred             = pred,\n",
    "    sensitive_features = A_te\n",
    ")\n",
    "\n",
    "print(\"Per-sex breakdown\")\n",
    "print(mf.by_group, \"\\n\")\n",
    "print(\"Overall performance\")\n",
    "print(mf.overall, \"\\n\")\n",
    "\n",
    "# 5. Global fairness metrics (need sensitive_features) ────────────────────\n",
    "dp_diff  = demographic_parity_difference(y_te, pred, sensitive_features=A_te)\n",
    "dp_ratio = demographic_parity_ratio(   y_te, pred, sensitive_features=A_te)\n",
    "\n",
    "print(f\"Demographic-parity difference : {dp_diff:.3f}\")\n",
    "print(f\"Demographic-parity ratio      : {dp_ratio:.3f}\")\n"
   ]
  },
  {
   "cell_type": "code",
   "execution_count": null,
   "id": "b25cdd95",
   "metadata": {},
   "outputs": [],
   "source": []
  }
 ],
 "metadata": {
  "kernelspec": {
   "display_name": "Python 3",
   "language": "python",
   "name": "python3"
  },
  "language_info": {
   "codemirror_mode": {
    "name": "ipython",
    "version": 3
   },
   "file_extension": ".py",
   "mimetype": "text/x-python",
   "name": "python",
   "nbconvert_exporter": "python",
   "pygments_lexer": "ipython3",
   "version": "3.9.8"
  }
 },
 "nbformat": 4,
 "nbformat_minor": 5
}
